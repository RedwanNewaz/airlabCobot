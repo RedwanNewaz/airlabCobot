{
 "cells": [
  {
   "cell_type": "code",
   "execution_count": 27,
   "id": "initial_id",
   "metadata": {
    "collapsed": true,
    "ExecuteTime": {
     "end_time": "2024-03-22T22:15:08.815734Z",
     "start_time": "2024-03-22T22:15:08.813130Z"
    }
   },
   "outputs": [],
   "source": [
    "import numpy as np \n",
    "from scipy.optimize import least_squares\n",
    "from matplotlib import pyplot as plt"
   ]
  },
  {
   "cell_type": "code",
   "outputs": [],
   "source": [
    "cobot = np.loadtxt('cobot1.txt', delimiter=',') / 100.0\n",
    "camera = np.loadtxt('realsense2.txt', delimiter=',')[:, :2] / 100.0"
   ],
   "metadata": {
    "collapsed": false,
    "ExecuteTime": {
     "end_time": "2024-03-22T22:15:08.823730Z",
     "start_time": "2024-03-22T22:15:08.820491Z"
    }
   },
   "id": "4ff50b882412e3e7",
   "execution_count": 28
  },
  {
   "cell_type": "code",
   "outputs": [
    {
     "name": "stdout",
     "output_type": "stream",
     "text": [
      "diff_cobot: 3.2526911934581184, diff_camera: 3.205505295581338\n",
      "diff_cobot: 4.022437072223753, diff_camera: 4.193715575715644\n",
      "diff_cobot: 2.4186773244895647, diff_camera: 2.3078998440140337\n",
      "diff_cobot: 3.2, diff_camera: 3.4991441467878968\n",
      "diff_cobot: 2.2, diff_camera: 2.3181765463398167\n"
     ]
    }
   ],
   "source": [
    "for i in range(1, len(cobot)):\n",
    "    diff_cobot = np.linalg.norm(cobot[i-1] - cobot[i])\n",
    "    diff_camera = np.linalg.norm(camera[i-1] - camera[i])\n",
    "    print(f'diff_cobot: {diff_cobot}, diff_camera: {diff_camera}')"
   ],
   "metadata": {
    "collapsed": false,
    "ExecuteTime": {
     "end_time": "2024-03-22T22:15:08.829860Z",
     "start_time": "2024-03-22T22:15:08.825944Z"
    }
   },
   "id": "f2922dbde2e228dd",
   "execution_count": 29
  },
  {
   "cell_type": "code",
   "outputs": [],
   "source": [
    "def point_transformation(point, origin):\n",
    "    x = (point - origin)\n",
    "    x[1] *= -1\n",
    "    return x"
   ],
   "metadata": {
    "collapsed": false,
    "ExecuteTime": {
     "end_time": "2024-03-22T22:15:08.835821Z",
     "start_time": "2024-03-22T22:15:08.831206Z"
    }
   },
   "id": "f45697978a6ec900",
   "execution_count": 30
  },
  {
   "cell_type": "code",
   "outputs": [],
   "source": [
    "def calibrate(x0_param, xx, y):\n",
    "  y_hat = np.array([point_transformation(x, x0_param) for x in xx])\n",
    "  return np.linalg.norm(y_hat - y)"
   ],
   "metadata": {
    "collapsed": false,
    "ExecuteTime": {
     "end_time": "2024-03-22T22:15:08.841525Z",
     "start_time": "2024-03-22T22:15:08.836823Z"
    }
   },
   "id": "6ad45e65e0d218b6",
   "execution_count": 31
  },
  {
   "cell_type": "code",
   "outputs": [],
   "source": [
    "def find_transformation(camera, cobot):\n",
    "    # initial guess on the parameters\n",
    "    x0 = np.array([0.0, 0.0])\n",
    "    res_lsq = least_squares(calibrate, x0, args=(camera, cobot))\n",
    "\n",
    "    print(\n",
    "        f\"x = {res_lsq.x[0] * 100.0:.3f}, y = {res_lsq.x[1] * 100.0:.3f}\"\n",
    "    )"
   ],
   "metadata": {
    "collapsed": false,
    "ExecuteTime": {
     "end_time": "2024-03-22T22:15:08.847337Z",
     "start_time": "2024-03-22T22:15:08.843002Z"
    }
   },
   "id": "98a460d63a6d06b6",
   "execution_count": 32
  },
  {
   "cell_type": "code",
   "outputs": [
    {
     "name": "stdout",
     "output_type": "stream",
     "text": [
      "x = 294.423, y = -362.489\n"
     ]
    }
   ],
   "source": [
    "find_transformation(camera, cobot)"
   ],
   "metadata": {
    "collapsed": false,
    "ExecuteTime": {
     "end_time": "2024-03-22T22:15:08.859357Z",
     "start_time": "2024-03-22T22:15:08.848747Z"
    }
   },
   "id": "a380b9030d061fd4",
   "execution_count": 33
  },
  {
   "cell_type": "code",
   "outputs": [
    {
     "name": "stdout",
     "output_type": "stream",
     "text": [
      "point: -58.743, -282.219\n",
      "point: -291.103, -61.399\n",
      "point: -51.623, 282.871\n",
      "point: 154.507, 179.071\n",
      "point: 182.907, -169.689\n",
      "point: 164.057, 61.361\n"
     ]
    }
   ],
   "source": [
    "origin = np.array([294.423, -362.489])/100.0\n",
    "for point in camera:\n",
    "    x = (point - origin) * 100.0\n",
    "    x[1] *= -1\n",
    "    print(f'point: {x[0]:.3f}, {x[1]:.3f}')\n",
    "    \n",
    "    "
   ],
   "metadata": {
    "collapsed": false,
    "ExecuteTime": {
     "end_time": "2024-03-22T22:23:05.944082Z",
     "start_time": "2024-03-22T22:23:05.940809Z"
    }
   },
   "id": "ef32f99577f02e84",
   "execution_count": 35
  },
  {
   "cell_type": "code",
   "outputs": [],
   "source": [],
   "metadata": {
    "collapsed": false,
    "ExecuteTime": {
     "end_time": "2024-03-22T22:15:08.868909Z",
     "start_time": "2024-03-22T22:15:08.866581Z"
    }
   },
   "id": "c4125dd9652486d9",
   "execution_count": 34
  }
 ],
 "metadata": {
  "kernelspec": {
   "display_name": "Python 3",
   "language": "python",
   "name": "python3"
  },
  "language_info": {
   "codemirror_mode": {
    "name": "ipython",
    "version": 2
   },
   "file_extension": ".py",
   "mimetype": "text/x-python",
   "name": "python",
   "nbconvert_exporter": "python",
   "pygments_lexer": "ipython2",
   "version": "2.7.6"
  }
 },
 "nbformat": 4,
 "nbformat_minor": 5
}
